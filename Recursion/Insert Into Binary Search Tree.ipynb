{
 "cells": [
  {
   "cell_type": "code",
   "execution_count": 1,
   "id": "f9edea21",
   "metadata": {},
   "outputs": [],
   "source": [
    "#Anubhav Sharma\n",
    "#Insert Value into a Binary Search Tree"
   ]
  },
  {
   "cell_type": "code",
   "execution_count": 2,
   "id": "445cac24",
   "metadata": {},
   "outputs": [],
   "source": [
    "#Binary Search Tree is a node-based binary tree data structure which has the following properties:\n",
    "\n",
    "#The left subtree of a node contains only nodes with keys lesser than the node’s key.\n",
    "#The right subtree of a node contains only nodes with keys greater than the node’s key.\n",
    "#The left and right subtree each must also be a binary search tree."
   ]
  },
  {
   "cell_type": "code",
   "execution_count": 3,
   "id": "59244c6b",
   "metadata": {},
   "outputs": [],
   "source": [
    "class Node:\n",
    "    def __init__(self,key):\n",
    "        self.left = None\n",
    "        self.right = None\n",
    "        self.val = key\n",
    "\n",
    "def insertIntoBST(root, key):\n",
    "    if root is None:\n",
    "        return Node(key)\n",
    "    if root.val < key:\n",
    "        root.right = insertIntoBST(root.right,key)\n",
    "    else:\n",
    "        root.left = insertIntoBST(root.left,key)\n",
    "    return root\n",
    "\n",
    "def inorder(root):\n",
    "    if root:\n",
    "        inorder(root.left)\n",
    "        print(root.val)\n",
    "        inorder(root.right)"
   ]
  },
  {
   "cell_type": "code",
   "execution_count": 9,
   "id": "5ba9ab5a",
   "metadata": {},
   "outputs": [
    {
     "name": "stdout",
     "output_type": "stream",
     "text": [
      "20\n",
      "30\n",
      "40\n",
      "50\n",
      "60\n",
      "70\n",
      "80\n"
     ]
    }
   ],
   "source": [
    "r = Node(50)\n",
    "# inorder(r)\n",
    "r = insertIntoBST(r,30)\n",
    "# inorder(r)\n",
    "r = insertIntoBST(r,20)\n",
    "# inorder(r)\n",
    "r = insertIntoBST(r,40)\n",
    "# inorder(r)\n",
    "r = insertIntoBST(r,70)\n",
    "# inorder(r)\n",
    "r = insertIntoBST(r,60)\n",
    "# inorder(r)\n",
    "r = insertIntoBST(r,80)\n",
    "inorder(r)"
   ]
  },
  {
   "cell_type": "code",
   "execution_count": null,
   "id": "fefa2433",
   "metadata": {},
   "outputs": [],
   "source": []
  }
 ],
 "metadata": {
  "kernelspec": {
   "display_name": "Python 3",
   "language": "python",
   "name": "python3"
  },
  "language_info": {
   "codemirror_mode": {
    "name": "ipython",
    "version": 3
   },
   "file_extension": ".py",
   "mimetype": "text/x-python",
   "name": "python",
   "nbconvert_exporter": "python",
   "pygments_lexer": "ipython3",
   "version": "3.8.8"
  }
 },
 "nbformat": 4,
 "nbformat_minor": 5
}
