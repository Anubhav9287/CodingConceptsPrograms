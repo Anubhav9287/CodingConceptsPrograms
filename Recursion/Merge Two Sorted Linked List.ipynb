{
 "cells": [
  {
   "cell_type": "code",
   "execution_count": 1,
   "id": "6241deb5",
   "metadata": {},
   "outputs": [],
   "source": [
    "#Anubhav Sharma\n",
    "#Merge Two Sorted Linked List"
   ]
  },
  {
   "cell_type": "code",
   "execution_count": 5,
   "id": "ac8cc731",
   "metadata": {},
   "outputs": [],
   "source": [
    "# Create a Node Class\n",
    "class Node:\n",
    "    def __init__(self, data):\n",
    "        self.data = data\n",
    "        self.next = None\n",
    "#Create a linkedList\n",
    "class LinkedList:\n",
    "    \n",
    "    def __init__(self):\n",
    "        self.head = None\n",
    "    \n",
    "    #print linkedlist\n",
    "    def printList(self):\n",
    "        temp = self.head\n",
    "        \n",
    "        while temp:\n",
    "            print(temp.data, end=\"-->\")\n",
    "            temp = temp.next\n",
    "            \n",
    "    def append(self, new_data):\n",
    "        new_node = Node(new_data)\n",
    "        \n",
    "        if self.head is None:\n",
    "            self.head = new_node\n",
    "            return\n",
    "        last = self.head\n",
    "        \n",
    "        while last.next:\n",
    "            last = last.next\n",
    "        last.next = new_node\n",
    "\n",
    "#Function to merge sorted linked list\n",
    "def sortedLinkedListMerger(NodeA, NodeB):\n",
    "    #base case\n",
    "    if NodeA is None:\n",
    "        return NodeB\n",
    "    if NodeB is None:\n",
    "        return NodeA\n",
    "    \n",
    "    #Condtions\n",
    "    if NodeA.data <= NodeB.data:\n",
    "        NodeA.next = sortedLinkedListMerger(NodeA.next, NodeB)\n",
    "        return NodeA\n",
    "    else:\n",
    "        NodeB.next = sortedLinkedListMerger(NodeA, NodeB.next)\n",
    "        return NodeB        "
   ]
  },
  {
   "cell_type": "code",
   "execution_count": 8,
   "id": "f869d612",
   "metadata": {},
   "outputs": [
    {
     "name": "stdout",
     "output_type": "stream",
     "text": [
      "Node A: \n",
      "1-->8-->22-->40-->\n",
      "Node B: \n",
      "4-->11-->16-->20-->\n",
      "Merged Node C: 1-->4-->8-->11-->16-->20-->22-->40-->"
     ]
    }
   ],
   "source": [
    "#Sample Add new Linkedlist NodeA and Node B\n",
    "#NodeA = 1->8->22->40\n",
    "NodeA = LinkedList()\n",
    "NodeA.append(1)\n",
    "NodeA.append(8)\n",
    "NodeA.append(22)\n",
    "NodeA.append(40)\n",
    "\n",
    "#NodeB = 4->11->16->20\n",
    "NodeB = LinkedList()\n",
    "NodeB.append(4)\n",
    "NodeB.append(11)\n",
    "NodeB.append(16)\n",
    "NodeB.append(20)\n",
    "\n",
    "#Node for Output\n",
    "NodeC = LinkedList()\n",
    "\n",
    "#printing Node A, Node B\n",
    "print(\"Node A: \")\n",
    "NodeA.printList()\n",
    "print(\"\\nNode B: \")\n",
    "NodeB.printList()\n",
    "\n",
    "NodeC.head = sortedLinkedListMerger(NodeA.head, NodeB.head)\n",
    "print(\"\\nMerged Node C: \",end=\"\")\n",
    "NodeC.printList()"
   ]
  },
  {
   "cell_type": "code",
   "execution_count": null,
   "id": "ffce9997",
   "metadata": {},
   "outputs": [],
   "source": []
  }
 ],
 "metadata": {
  "kernelspec": {
   "display_name": "Python 3",
   "language": "python",
   "name": "python3"
  },
  "language_info": {
   "codemirror_mode": {
    "name": "ipython",
    "version": 3
   },
   "file_extension": ".py",
   "mimetype": "text/x-python",
   "name": "python",
   "nbconvert_exporter": "python",
   "pygments_lexer": "ipython3",
   "version": "3.8.8"
  }
 },
 "nbformat": 4,
 "nbformat_minor": 5
}
