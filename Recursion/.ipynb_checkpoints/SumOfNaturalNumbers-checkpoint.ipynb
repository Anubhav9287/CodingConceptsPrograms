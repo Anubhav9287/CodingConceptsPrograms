{
 "cells": [
  {
   "cell_type": "code",
   "execution_count": 1,
   "id": "d8e38451",
   "metadata": {},
   "outputs": [],
   "source": [
    "#This program is for Sum of Natural Numbers.\n",
    "#Natural Numbers are: number starting from 1 till the given number\n",
    "#Example: 10 -> 1+2+3+4+5+6+7+8+9+10"
   ]
  },
  {
   "cell_type": "code",
   "execution_count": 4,
   "id": "3c701eef",
   "metadata": {},
   "outputs": [],
   "source": [
    "def sumNaturalNumbers(value):\n",
    "    #base case\n",
    "    if value == 1:\n",
    "        return 1\n",
    "    return value + sumNaturalNumbers(value-1)"
   ]
  },
  {
   "cell_type": "code",
   "execution_count": 8,
   "id": "9f5b2a94",
   "metadata": {},
   "outputs": [
    {
     "name": "stdout",
     "output_type": "stream",
     "text": [
      "Sum of Natural Number till  10  is:  55\n",
      "Sum of Natural Number till  100  is:  5050\n",
      "Sum of Natural Number till  87  is:  3828\n",
      "Sum of Natural Number till  45  is:  1035\n"
     ]
    }
   ],
   "source": [
    "#sample inputs\n",
    "inputs = [10,100,87,45]\n",
    "for each_input in inputs:\n",
    "    print('Sum of Natural Number till ',each_input,' is: ',sumNaturalNumbers(each_input))"
   ]
  },
  {
   "cell_type": "code",
   "execution_count": null,
   "id": "6e3d6abf",
   "metadata": {},
   "outputs": [],
   "source": []
  }
 ],
 "metadata": {
  "kernelspec": {
   "display_name": "Python 3",
   "language": "python",
   "name": "python3"
  },
  "language_info": {
   "codemirror_mode": {
    "name": "ipython",
    "version": 3
   },
   "file_extension": ".py",
   "mimetype": "text/x-python",
   "name": "python",
   "nbconvert_exporter": "python",
   "pygments_lexer": "ipython3",
   "version": "3.8.8"
  }
 },
 "nbformat": 4,
 "nbformat_minor": 5
}
