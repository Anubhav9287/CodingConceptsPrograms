{
 "cells": [
  {
   "cell_type": "code",
   "execution_count": 1,
   "id": "2c7133ab",
   "metadata": {},
   "outputs": [],
   "source": [
    "#In this problem I will so with fibonacci series\n",
    "# 0 1 1 2 3 5 8 ...\n",
    "#logic is adding previous two number result in next number."
   ]
  },
  {
   "cell_type": "code",
   "execution_count": 4,
   "id": "aa284e9d",
   "metadata": {},
   "outputs": [],
   "source": [
    "def fibonacci(value):\n",
    "    #base case value is taken as 0 or 1\n",
    "    if value == 0 or value == 1:\n",
    "        return value\n",
    "    else:\n",
    "        return fibonacci(value-1) + fibonacci(value-2)"
   ]
  },
  {
   "cell_type": "code",
   "execution_count": 7,
   "id": "83d43eab",
   "metadata": {},
   "outputs": [
    {
     "name": "stdout",
     "output_type": "stream",
     "text": [
      "Given Value: 5  Output: 5\n",
      "Given Value: 8  Output: 21\n",
      "Given Value: 20  Output: 6765\n",
      "Given Value: 30  Output: 832040\n"
     ]
    }
   ],
   "source": [
    "#Sample inputs:\n",
    "inputs = [5,8,20,30]\n",
    "for each_input in inputs:\n",
    "    print('Given Value:',each_input,' Output:',fibonacci(each_input))"
   ]
  },
  {
   "cell_type": "code",
   "execution_count": null,
   "id": "d8186f0c",
   "metadata": {},
   "outputs": [],
   "source": []
  }
 ],
 "metadata": {
  "kernelspec": {
   "display_name": "Python 3",
   "language": "python",
   "name": "python3"
  },
  "language_info": {
   "codemirror_mode": {
    "name": "ipython",
    "version": 3
   },
   "file_extension": ".py",
   "mimetype": "text/x-python",
   "name": "python",
   "nbconvert_exporter": "python",
   "pygments_lexer": "ipython3",
   "version": "3.8.8"
  }
 },
 "nbformat": 4,
 "nbformat_minor": 5
}
