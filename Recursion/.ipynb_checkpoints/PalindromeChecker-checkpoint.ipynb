{
 "cells": [
  {
   "cell_type": "code",
   "execution_count": 1,
   "id": "fbef3087",
   "metadata": {},
   "outputs": [],
   "source": [
    "#Palindrome can be a string or a number.\n",
    "#We call any string as palindrome where its same from back and front.\n",
    "#Example: KAYAK, 123321 etc\n",
    "#In this I will show the recursion approach only"
   ]
  },
  {
   "cell_type": "code",
   "execution_count": 2,
   "id": "ce191d0f",
   "metadata": {},
   "outputs": [],
   "source": [
    "def palindromeChecker(value):\n",
    "    if len(value) <= 1:\n",
    "        return True\n",
    "    if value[0] != value[-1]:\n",
    "        return False\n",
    "    return palindromeChecker(value[1:-1])"
   ]
  },
  {
   "cell_type": "code",
   "execution_count": 8,
   "id": "5751db17",
   "metadata": {},
   "outputs": [
    {
     "name": "stdout",
     "output_type": "stream",
     "text": [
      "Is KAYAK palindrome?\n",
      " True\n",
      "Is KAYYAK palindrome?\n",
      " True\n",
      "Is ABC palindrome?\n",
      " False\n",
      "Is 100001 palindrome?\n",
      " True\n"
     ]
    }
   ],
   "source": [
    "#sample inputs\n",
    "inputs = ['KAYAK','KAYYAK','ABC','100001']\n",
    "for each_input in inputs:\n",
    "    print('Is',each_input,'palindrome?\\n',palindromeChecker(each_input))"
   ]
  },
  {
   "cell_type": "code",
   "execution_count": null,
   "id": "c98db121",
   "metadata": {},
   "outputs": [],
   "source": []
  }
 ],
 "metadata": {
  "kernelspec": {
   "display_name": "Python 3",
   "language": "python",
   "name": "python3"
  },
  "language_info": {
   "codemirror_mode": {
    "name": "ipython",
    "version": 3
   },
   "file_extension": ".py",
   "mimetype": "text/x-python",
   "name": "python",
   "nbconvert_exporter": "python",
   "pygments_lexer": "ipython3",
   "version": "3.8.8"
  }
 },
 "nbformat": 4,
 "nbformat_minor": 5
}
