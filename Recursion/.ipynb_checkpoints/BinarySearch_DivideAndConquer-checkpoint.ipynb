{
 "cells": [
  {
   "cell_type": "code",
   "execution_count": 1,
   "id": "a15e5e71",
   "metadata": {},
   "outputs": [],
   "source": [
    "#Under Divide and Conquer we have Binary Search.\n",
    "#if the data is sorted then we can divide and move to the part where our search item exist\n",
    "#Time Complexity: O(logN)"
   ]
  },
  {
   "cell_type": "code",
   "execution_count": 7,
   "id": "8923ac62",
   "metadata": {},
   "outputs": [],
   "source": [
    "def binarySearch(inputs, search_item, s_index, l_index):\n",
    "#     print(inputs)\n",
    "    if s_index > l_index:\n",
    "        print('Element Not Found!')\n",
    "        return -1\n",
    "    m = (s_index+l_index) // 2\n",
    "    if inputs[m] == search_item:\n",
    "        print('Found at:',m,' index')\n",
    "        return m\n",
    "    if search_item < inputs[m]:\n",
    "        return binarySearch(inputs,search_item,s_index,m-1)\n",
    "    return binarySearch(inputs, search_item,m+1,l_index)\n",
    "    "
   ]
  },
  {
   "cell_type": "code",
   "execution_count": 8,
   "id": "f02e189c",
   "metadata": {},
   "outputs": [
    {
     "name": "stdout",
     "output_type": "stream",
     "text": [
      "Found at: 0  index\n"
     ]
    },
    {
     "data": {
      "text/plain": [
       "0"
      ]
     },
     "execution_count": 8,
     "metadata": {},
     "output_type": "execute_result"
    }
   ],
   "source": [
    "#Sample input\n",
    "inputs = [-1,0,1,2,3,4,7,9,10,20]\n",
    "search_item = -1\n",
    "binarySearch(inputs,search_item,0,len(inputs)-1)"
   ]
  }
 ],
 "metadata": {
  "kernelspec": {
   "display_name": "Python 3",
   "language": "python",
   "name": "python3"
  },
  "language_info": {
   "codemirror_mode": {
    "name": "ipython",
    "version": 3
   },
   "file_extension": ".py",
   "mimetype": "text/x-python",
   "name": "python",
   "nbconvert_exporter": "python",
   "pygments_lexer": "ipython3",
   "version": "3.8.8"
  }
 },
 "nbformat": 4,
 "nbformat_minor": 5
}
