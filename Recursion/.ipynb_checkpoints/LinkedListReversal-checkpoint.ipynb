{
 "cells": [
  {
   "cell_type": "code",
   "execution_count": 1,
   "id": "706056b3",
   "metadata": {},
   "outputs": [],
   "source": [
    "#In this program you are asked to reverse the linked list"
   ]
  },
  {
   "cell_type": "code",
   "execution_count": 82,
   "id": "d29d352b",
   "metadata": {},
   "outputs": [],
   "source": [
    "class Node:\n",
    "    # Constructor to initialize the node object\n",
    "    def __init__(self, data):\n",
    "        self.data = data\n",
    "        self.next = None"
   ]
  },
  {
   "cell_type": "code",
   "execution_count": 83,
   "id": "8351b971",
   "metadata": {},
   "outputs": [],
   "source": [
    "class LinkedList:\n",
    "    def __init__(self):\n",
    "        self.head = None # Head of list\n",
    " \n",
    "    # Method to reverse the list\n",
    "    def reverse(self, head):\n",
    " \n",
    "        # If head is empty or has reached the list end\n",
    "        if head is None or head.next is None:\n",
    "            return head\n",
    "        rest = self.reverse(head.next)\n",
    "        head.next.next = head\n",
    "        head.next = None\n",
    "        return rest\n",
    " \n",
    "    # Returns the linked list in display format\n",
    "    def __str__(self):\n",
    "        linkedListStr = \"\"\n",
    "        temp = self.head\n",
    "        while temp:\n",
    "            linkedListStr = (linkedListStr + str(temp.data) + \" \")\n",
    "            temp = temp.next\n",
    "        return linkedListStr\n",
    " \n",
    "    # Pushes new data to the head of the list\n",
    "    def push(self, data):\n",
    "        temp = Node(data)\n",
    "        temp.next = self.head\n",
    "        self.head = temp"
   ]
  },
  {
   "cell_type": "code",
   "execution_count": 84,
   "id": "b9cc680c",
   "metadata": {},
   "outputs": [],
   "source": [
    "llist = LinkedList()\n",
    "llist.push(20)\n",
    "llist.push(4)\n",
    "llist.push(15)\n",
    "llist.push(85)"
   ]
  },
  {
   "cell_type": "code",
   "execution_count": 86,
   "id": "6b95e47f",
   "metadata": {},
   "outputs": [
    {
     "name": "stdout",
     "output_type": "stream",
     "text": [
      "85 15 4 20 \n"
     ]
    }
   ],
   "source": [
    "print(llist)"
   ]
  },
  {
   "cell_type": "code",
   "execution_count": 87,
   "id": "215a6e29",
   "metadata": {},
   "outputs": [],
   "source": [
    "llist.head = llist.reverse(llist.head)"
   ]
  },
  {
   "cell_type": "code",
   "execution_count": 88,
   "id": "adde92e8",
   "metadata": {},
   "outputs": [
    {
     "name": "stdout",
     "output_type": "stream",
     "text": [
      "20 4 15 85 \n"
     ]
    }
   ],
   "source": [
    "print(llist)"
   ]
  },
  {
   "cell_type": "code",
   "execution_count": null,
   "id": "f7bef826",
   "metadata": {},
   "outputs": [],
   "source": []
  }
 ],
 "metadata": {
  "kernelspec": {
   "display_name": "Python 3",
   "language": "python",
   "name": "python3"
  },
  "language_info": {
   "codemirror_mode": {
    "name": "ipython",
    "version": 3
   },
   "file_extension": ".py",
   "mimetype": "text/x-python",
   "name": "python",
   "nbconvert_exporter": "python",
   "pygments_lexer": "ipython3",
   "version": "3.8.8"
  }
 },
 "nbformat": 4,
 "nbformat_minor": 5
}
