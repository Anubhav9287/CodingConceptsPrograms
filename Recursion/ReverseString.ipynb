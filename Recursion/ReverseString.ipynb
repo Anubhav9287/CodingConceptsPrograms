{
 "cells": [
  {
   "cell_type": "code",
   "execution_count": 1,
   "id": "59b8cb3f",
   "metadata": {},
   "outputs": [],
   "source": [
    "#To start with recursion reverse of string is best example to start with.\n",
    "#In this program reverse of a string though recursion will be done."
   ]
  },
  {
   "cell_type": "code",
   "execution_count": 7,
   "id": "484d2acc",
   "metadata": {},
   "outputs": [],
   "source": [
    "def reverseSring(value):\n",
    "    #base case can be if there is only one charater left. As one char will have same on reverse.\n",
    "    #we can use len(value) == 0 as well\n",
    "    if len(value) == 1:\n",
    "        return value\n",
    "    return value[-1] + reverseSring(value[:-1])"
   ]
  },
  {
   "cell_type": "code",
   "execution_count": 9,
   "id": "6a7f7057",
   "metadata": {},
   "outputs": [
    {
     "name": "stdout",
     "output_type": "stream",
     "text": [
      "amrahS vahbunA\n",
      "gnidoC  yppaH\n",
      "KALAK\n"
     ]
    }
   ],
   "source": [
    "#sample inputs\n",
    "input = ['Anubhav Sharma','Happy  Coding','KALAK']\n",
    "#calling the function\n",
    "for each_input in input:\n",
    "    print(reverseSring(each_input))"
   ]
  },
  {
   "cell_type": "code",
   "execution_count": null,
   "id": "b538cf2b",
   "metadata": {},
   "outputs": [],
   "source": []
  }
 ],
 "metadata": {
  "kernelspec": {
   "display_name": "Python 3",
   "language": "python",
   "name": "python3"
  },
  "language_info": {
   "codemirror_mode": {
    "name": "ipython",
    "version": 3
   },
   "file_extension": ".py",
   "mimetype": "text/x-python",
   "name": "python",
   "nbconvert_exporter": "python",
   "pygments_lexer": "ipython3",
   "version": "3.8.8"
  }
 },
 "nbformat": 4,
 "nbformat_minor": 5
}
