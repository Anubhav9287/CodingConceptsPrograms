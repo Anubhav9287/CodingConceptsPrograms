{
 "cells": [
  {
   "cell_type": "code",
   "execution_count": 1,
   "id": "4ba8d3fd",
   "metadata": {},
   "outputs": [],
   "source": [
    "#This another problem to convert Decimal to Binary can be solved by recursion\n",
    "#First: How to convert\n",
    "# 29 --> 29//2 = 14 (rem=1),14//2 = 7 (rem=0), 7//2 = 3 (rem=1), 3//2 = 1 (rem=1)\n",
    "# 29 = (11101)"
   ]
  },
  {
   "cell_type": "code",
   "execution_count": 4,
   "id": "4e174d76",
   "metadata": {},
   "outputs": [],
   "source": [
    "def decimalToBinary(value):\n",
    "    #base case till value is 1 or 0\n",
    "    if value == 1 or value == 0:\n",
    "        return str(value)\n",
    "    m = value % 2\n",
    "    value = value//2\n",
    "    return decimalToBinary(value) + str(m)"
   ]
  },
  {
   "cell_type": "code",
   "execution_count": 7,
   "id": "68be1a2b",
   "metadata": {},
   "outputs": [
    {
     "name": "stdout",
     "output_type": "stream",
     "text": [
      "Binary of: 29  = 11101\n",
      "Binary of: 233  = 11101001\n",
      "Binary of: 900  = 1110000100\n",
      "Binary of: 0  = 0\n"
     ]
    }
   ],
   "source": [
    "#sample inputs\n",
    "inputs = [29,233,900,0]\n",
    "for each_input in inputs:\n",
    "    print('Binary of:',each_input,' =',decimalToBinary(each_input))"
   ]
  },
  {
   "cell_type": "code",
   "execution_count": null,
   "id": "b1e1edc3",
   "metadata": {},
   "outputs": [],
   "source": []
  }
 ],
 "metadata": {
  "kernelspec": {
   "display_name": "Python 3",
   "language": "python",
   "name": "python3"
  },
  "language_info": {
   "codemirror_mode": {
    "name": "ipython",
    "version": 3
   },
   "file_extension": ".py",
   "mimetype": "text/x-python",
   "name": "python",
   "nbconvert_exporter": "python",
   "pygments_lexer": "ipython3",
   "version": "3.8.8"
  }
 },
 "nbformat": 4,
 "nbformat_minor": 5
}
