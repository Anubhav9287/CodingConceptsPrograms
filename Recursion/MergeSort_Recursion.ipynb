{
 "cells": [
  {
   "cell_type": "code",
   "execution_count": 1,
   "id": "ec0adce6",
   "metadata": {},
   "outputs": [],
   "source": [
    "#Merge Sort is again a divide and conquer technique.\n",
    "#Merge sort is an efficient, general-purpose, and comparison-based sorting algorithm."
   ]
  },
  {
   "cell_type": "code",
   "execution_count": 24,
   "id": "4736830f",
   "metadata": {},
   "outputs": [],
   "source": [
    "def merge(inputlist, start, mid, end):\n",
    "    temp = []\n",
    "    i = start\n",
    "    j = mid+1\n",
    "    k = 0\n",
    "    \n",
    "    #while both subarray has values, the try and merge them in sorted way\n",
    "    while (i<= mid and j<= end):\n",
    "        if inputlist[i] <= inputlist[j]:\n",
    "            temp.append(inputlist[i])\n",
    "            i += 1\n",
    "        else:\n",
    "            temp.append(inputlist[j])\n",
    "            j += 1\n",
    "    #add rest of the values \n",
    "    while i <= mid:\n",
    "        temp.append(inputlist[i])\n",
    "        i += 1\n",
    "    #add rest of the value remaining\n",
    "    while j <= end:\n",
    "        temp.append(inputlist[j])\n",
    "        j += 1\n",
    "    for i in range(start,end+1):\n",
    "        inputlist[i] = temp[i-start]\n",
    "def mergeSort(input, start, end):\n",
    "    if start < end:\n",
    "        mid = (start+end)//2\n",
    "        mergeSort(input, start, mid)\n",
    "        mergeSort(input, mid+1, end)\n",
    "        merge(input, start, mid, end)"
   ]
  },
  {
   "cell_type": "code",
   "execution_count": 26,
   "id": "ba354ddd",
   "metadata": {},
   "outputs": [
    {
     "data": {
      "text/plain": [
       "[-5, 0, 2, 3, 10, 20]"
      ]
     },
     "execution_count": 26,
     "metadata": {},
     "output_type": "execute_result"
    }
   ],
   "source": [
    "#Sample input\n",
    "input_v = [-5,20,10,3,2,0]\n",
    "mergeSort(input_v,0,len(input_v)-1)\n",
    "input_v"
   ]
  },
  {
   "cell_type": "code",
   "execution_count": null,
   "id": "9b98617c",
   "metadata": {},
   "outputs": [],
   "source": []
  },
  {
   "cell_type": "code",
   "execution_count": null,
   "id": "03e7eb1d",
   "metadata": {},
   "outputs": [],
   "source": []
  }
 ],
 "metadata": {
  "kernelspec": {
   "display_name": "Python 3",
   "language": "python",
   "name": "python3"
  },
  "language_info": {
   "codemirror_mode": {
    "name": "ipython",
    "version": 3
   },
   "file_extension": ".py",
   "mimetype": "text/x-python",
   "name": "python",
   "nbconvert_exporter": "python",
   "pygments_lexer": "ipython3",
   "version": "3.8.8"
  }
 },
 "nbformat": 4,
 "nbformat_minor": 5
}
