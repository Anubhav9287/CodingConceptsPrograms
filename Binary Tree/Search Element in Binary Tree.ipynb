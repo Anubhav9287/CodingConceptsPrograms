{
 "cells": [
  {
   "cell_type": "code",
   "execution_count": 1,
   "id": "cb31572a",
   "metadata": {},
   "outputs": [],
   "source": [
    "#This will search for the given value in Binary Tree"
   ]
  },
  {
   "cell_type": "code",
   "execution_count": 2,
   "id": "2af8a40b",
   "metadata": {},
   "outputs": [],
   "source": [
    "#First lets create a binary tree"
   ]
  },
  {
   "cell_type": "code",
   "execution_count": 3,
   "id": "b0aef342",
   "metadata": {},
   "outputs": [],
   "source": [
    "class Node:\n",
    "    def __init__(self,key):\n",
    "        self.val = key\n",
    "        self.left = None\n",
    "        self.right = None"
   ]
  },
  {
   "cell_type": "code",
   "execution_count": 4,
   "id": "47775197",
   "metadata": {},
   "outputs": [],
   "source": [
    "#         a\n",
    "#       /   \\\n",
    "#      b     c\n",
    "#     / \\     \\\n",
    "#    d   e     f  \n",
    "#Create nodes a (root), b,c,d,e,f\n",
    "a = Node('a')\n",
    "b = Node('b')\n",
    "c = Node('c')\n",
    "d = Node('d')\n",
    "e = Node('e')\n",
    "f = Node('f')\n",
    "#Now connect as per given values\n",
    "a.left = b\n",
    "a.right = c\n",
    "b.left = d\n",
    "b.right = e\n",
    "c.right = f"
   ]
  },
  {
   "cell_type": "code",
   "execution_count": 7,
   "id": "10bf41f7",
   "metadata": {},
   "outputs": [],
   "source": [
    "#Lets see if 'e' is present in the node or not\n",
    "#Depth First Search\n",
    "def searchElement(root, element):\n",
    "    if root is None:\n",
    "        return 'Element Not Found'\n",
    "    stack = []\n",
    "    stack.append(root)\n",
    "    while stack:\n",
    "        current_node = stack.pop()\n",
    "        if element == current_node.val:\n",
    "            return 'Element found'\n",
    "        if current_node.left:\n",
    "            stack.append(current_node.left)\n",
    "        if current_node.right:\n",
    "            stack.append(current_node.right)\n",
    "    return 'Element not present.'"
   ]
  },
  {
   "cell_type": "code",
   "execution_count": 20,
   "id": "75532ba9",
   "metadata": {},
   "outputs": [
    {
     "name": "stdout",
     "output_type": "stream",
     "text": [
      "Element not present.\n",
      "Element found\n",
      "Element not present.\n"
     ]
    }
   ],
   "source": [
    "print(searchElement(a,''))\n",
    "print(searchElement(a,'c'))\n",
    "print(searchElement(a,'p'))"
   ]
  },
  {
   "cell_type": "code",
   "execution_count": 13,
   "id": "d0adce1e",
   "metadata": {},
   "outputs": [],
   "source": [
    "#Lets do it with recurssion\n",
    "def searchElementWithRecursion(root, element):\n",
    "    if root is None:\n",
    "        return False\n",
    "    if root.val == element:\n",
    "        return True\n",
    "    return searchElementWithRecursion(root.left,element) or searchElementWithRecursion(root.right, element)"
   ]
  },
  {
   "cell_type": "code",
   "execution_count": 19,
   "id": "3c311585",
   "metadata": {},
   "outputs": [
    {
     "name": "stdout",
     "output_type": "stream",
     "text": [
      "Element Found\n"
     ]
    }
   ],
   "source": [
    "if searchElementWithRecursion(a,'d'):\n",
    "    print('Element Found')\n",
    "else:\n",
    "    print('No Element Found')"
   ]
  },
  {
   "cell_type": "code",
   "execution_count": null,
   "id": "8697276a",
   "metadata": {},
   "outputs": [],
   "source": []
  }
 ],
 "metadata": {
  "kernelspec": {
   "display_name": "Python 3",
   "language": "python",
   "name": "python3"
  },
  "language_info": {
   "codemirror_mode": {
    "name": "ipython",
    "version": 3
   },
   "file_extension": ".py",
   "mimetype": "text/x-python",
   "name": "python",
   "nbconvert_exporter": "python",
   "pygments_lexer": "ipython3",
   "version": "3.8.8"
  }
 },
 "nbformat": 4,
 "nbformat_minor": 5
}
