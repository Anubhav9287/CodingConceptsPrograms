{
 "cells": [
  {
   "cell_type": "code",
   "execution_count": 14,
   "id": "6440c86e",
   "metadata": {},
   "outputs": [],
   "source": [
    "#For this program we are going to find the max path sum of given tree\n",
    "class Node:\n",
    "    def __init__(self,key):\n",
    "        self.val = key\n",
    "        self.left = None\n",
    "        self.right = None\n",
    "#Declare Node and insert values\n",
    "a = Node(10)\n",
    "b = Node(20)\n",
    "c = Node(12)\n",
    "d = Node(90)\n",
    "e = Node(67)\n",
    "f = Node(200)\n",
    "#Connection between the nodes\n",
    "#      a\n",
    "#    /   \\\n",
    "#   b     c\n",
    "#  / \\   / \\\n",
    "# d   e     f\n",
    "#Connection between the nodes\n",
    "#      10\n",
    "#    /    \\\n",
    "#   20     12\n",
    "#  / \\       \\\n",
    "# 90 67     200\n",
    "\n",
    "a.left = b\n",
    "a.right = c\n",
    "b.left = d\n",
    "b.right = e\n",
    "c.right = f"
   ]
  },
  {
   "cell_type": "code",
   "execution_count": 15,
   "id": "ac91fe8a",
   "metadata": {},
   "outputs": [],
   "source": [
    "def maxPathSum(root):\n",
    "    if root is None:\n",
    "        return float(\"-inf\")\n",
    "    if root.left is None and root.right is None:\n",
    "        return root.val\n",
    "    return root.val+ max(maxPathSum(root.left), maxPathSum(root.right))"
   ]
  },
  {
   "cell_type": "code",
   "execution_count": 16,
   "id": "4a90206f",
   "metadata": {},
   "outputs": [
    {
     "name": "stdout",
     "output_type": "stream",
     "text": [
      "222\n"
     ]
    }
   ],
   "source": [
    "print(maxPathSum(a))"
   ]
  }
 ],
 "metadata": {
  "kernelspec": {
   "display_name": "Python 3",
   "language": "python",
   "name": "python3"
  },
  "language_info": {
   "codemirror_mode": {
    "name": "ipython",
    "version": 3
   },
   "file_extension": ".py",
   "mimetype": "text/x-python",
   "name": "python",
   "nbconvert_exporter": "python",
   "pygments_lexer": "ipython3",
   "version": "3.8.8"
  }
 },
 "nbformat": 4,
 "nbformat_minor": 5
}
