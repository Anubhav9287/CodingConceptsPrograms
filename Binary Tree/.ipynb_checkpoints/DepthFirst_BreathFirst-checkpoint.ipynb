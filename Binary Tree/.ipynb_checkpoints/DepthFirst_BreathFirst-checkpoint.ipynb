{
 "cells": [
  {
   "cell_type": "raw",
   "id": "61e264aa",
   "metadata": {},
   "source": [
    "         a\n",
    "       /    \\\n",
    "     b        c\n",
    "    / \\        \\\n",
    "   d  e         f\n",
    "\n",
    "# Depth First Value:\n",
    "Output: a,b,d,e,c,f\n",
    "# Breath First Value:\n",
    "Output: a,b,c,d,e,f"
   ]
  },
  {
   "cell_type": "code",
   "execution_count": 59,
   "id": "3c9f3653",
   "metadata": {},
   "outputs": [],
   "source": [
    "#define a class Node for object\n",
    "class Node:\n",
    "    def __init__(self,key):\n",
    "        self.left = None\n",
    "        self.right = None\n",
    "        self.val = key"
   ]
  },
  {
   "cell_type": "code",
   "execution_count": 60,
   "id": "86087d85",
   "metadata": {},
   "outputs": [],
   "source": [
    "#Create Node a,b,c,d,e,f\n",
    "#root = a\n",
    "a = Node('a')\n",
    "b = Node('b')\n",
    "c = Node('c')\n",
    "d = Node('d')\n",
    "e = Node('e')\n",
    "f = Node('f')"
   ]
  },
  {
   "cell_type": "code",
   "execution_count": 61,
   "id": "8189f758",
   "metadata": {},
   "outputs": [],
   "source": [
    "#Connect the Nodes\n",
    "a.left = b\n",
    "a.right = c\n",
    "b.left = d\n",
    "b.right = e\n",
    "c.right = f\n",
    "#         a\n",
    "#       /    \\\n",
    "#     b        c\n",
    "#    / \\      / \\\n",
    "#   d  e         f"
   ]
  },
  {
   "cell_type": "code",
   "execution_count": 62,
   "id": "a5b24f4f",
   "metadata": {},
   "outputs": [],
   "source": [
    "def depthFirstVaue(root):\n",
    "    if not root:\n",
    "        return []\n",
    "    stack = []\n",
    "    stack.append(root)\n",
    "    while(stack):\n",
    "        current = stack.pop()\n",
    "        print(current.val)\n",
    "        if current.right:\n",
    "            stack.append(current.right)\n",
    "        if current.left:\n",
    "            stack.append(current.left)"
   ]
  },
  {
   "cell_type": "code",
   "execution_count": 63,
   "id": "07686fa1",
   "metadata": {},
   "outputs": [
    {
     "name": "stdout",
     "output_type": "stream",
     "text": [
      "a\n",
      "b\n",
      "d\n",
      "e\n",
      "c\n",
      "f\n"
     ]
    }
   ],
   "source": [
    "# Expected: Output: a,b,d,e,c,f\n",
    "depthFirstVaue(a)"
   ]
  },
  {
   "cell_type": "code",
   "execution_count": 66,
   "id": "2da3b243",
   "metadata": {},
   "outputs": [],
   "source": [
    "def breadthFirstValue(root):\n",
    "    if not root:\n",
    "        return []\n",
    "    queue = []\n",
    "    queue.append(root)\n",
    "    while(queue):\n",
    "        current = queue.pop(0)\n",
    "        print(current.val)\n",
    "        if current.left:\n",
    "            queue.append(current.left)\n",
    "        if current.right:\n",
    "            queue.append(current.right)"
   ]
  },
  {
   "cell_type": "code",
   "execution_count": 67,
   "id": "6a838e14",
   "metadata": {},
   "outputs": [
    {
     "name": "stdout",
     "output_type": "stream",
     "text": [
      "a\n",
      "b\n",
      "c\n",
      "d\n",
      "e\n",
      "f\n"
     ]
    }
   ],
   "source": [
    "breadthFirstValue(a)\n",
    "#Expected output: a,b,c,d,e,f"
   ]
  }
 ],
 "metadata": {
  "kernelspec": {
   "display_name": "Python 3",
   "language": "python",
   "name": "python3"
  },
  "language_info": {
   "codemirror_mode": {
    "name": "ipython",
    "version": 3
   },
   "file_extension": ".py",
   "mimetype": "text/x-python",
   "name": "python",
   "nbconvert_exporter": "python",
   "pygments_lexer": "ipython3",
   "version": "3.8.8"
  }
 },
 "nbformat": 4,
 "nbformat_minor": 5
}
