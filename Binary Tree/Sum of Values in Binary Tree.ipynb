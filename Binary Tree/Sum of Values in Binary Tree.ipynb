{
 "cells": [
  {
   "cell_type": "code",
   "execution_count": 1,
   "id": "51879e1a",
   "metadata": {},
   "outputs": [],
   "source": [
    "#This program will give the sum of values in a given tree"
   ]
  },
  {
   "cell_type": "code",
   "execution_count": 3,
   "id": "89618126",
   "metadata": {},
   "outputs": [],
   "source": [
    "#Start with creating a class of Node\n",
    "class Node:\n",
    "    def __init__(self,key):\n",
    "        self.val = key\n",
    "        self.left = None\n",
    "        self.right = None\n",
    "#Create a Node and add values\n",
    "a = Node(5)\n",
    "b = Node(4)\n",
    "c = Node(3)\n",
    "d = Node(2)\n",
    "e = Node(1)\n",
    "f = Node(0)"
   ]
  },
  {
   "cell_type": "code",
   "execution_count": 4,
   "id": "6c70cf9f",
   "metadata": {},
   "outputs": [],
   "source": [
    "#connect the nodes\n",
    "a.left = b\n",
    "a.right = c\n",
    "b.left = d\n",
    "b.right = e\n",
    "c.right = f\n",
    "#Visual of the tree\n",
    "#     a\n",
    "#    / \\\n",
    "#   b   c\n",
    "#  / \\   \\\n",
    "# d   e   f\n",
    "#With Values\n",
    "#     5\n",
    "#    / \\\n",
    "#   4   3\n",
    "#  / \\   \\\n",
    "# 2   1   0"
   ]
  },
  {
   "cell_type": "code",
   "execution_count": 5,
   "id": "85bffef1",
   "metadata": {},
   "outputs": [],
   "source": [
    "#We can canculate using BFS or DFS\n",
    "def sumOfValues(root):\n",
    "    total = 0\n",
    "    if root is None:\n",
    "        return 0\n",
    "    stack = []\n",
    "    stack.append(root)\n",
    "    while stack:\n",
    "        current = stack.pop()\n",
    "        total = total + current.val\n",
    "        if current.left:\n",
    "            stack.append(current.left)\n",
    "        if current.right:\n",
    "            stack.append(current.right)\n",
    "    return total"
   ]
  },
  {
   "cell_type": "code",
   "execution_count": 6,
   "id": "0eb20ece",
   "metadata": {},
   "outputs": [
    {
     "name": "stdout",
     "output_type": "stream",
     "text": [
      "15\n"
     ]
    }
   ],
   "source": [
    "print(sumOfValues(a))"
   ]
  },
  {
   "cell_type": "code",
   "execution_count": 8,
   "id": "404028da",
   "metadata": {},
   "outputs": [],
   "source": [
    "#Other Option we have is to do it with recursion\n",
    "def sumOfValuesWithRecurssion(root):\n",
    "    if root is None:\n",
    "        return 0\n",
    "    return root.val + sumOfValuesWithRecurssion(root.left) + sumOfValuesWithRecurssion(root.right)"
   ]
  },
  {
   "cell_type": "code",
   "execution_count": 9,
   "id": "a35300e8",
   "metadata": {},
   "outputs": [
    {
     "name": "stdout",
     "output_type": "stream",
     "text": [
      "15\n"
     ]
    }
   ],
   "source": [
    "print(sumOfValuesWithRecurssion(a))"
   ]
  },
  {
   "cell_type": "code",
   "execution_count": null,
   "id": "6ec8fe8f",
   "metadata": {},
   "outputs": [],
   "source": []
  }
 ],
 "metadata": {
  "kernelspec": {
   "display_name": "Python 3",
   "language": "python",
   "name": "python3"
  },
  "language_info": {
   "codemirror_mode": {
    "name": "ipython",
    "version": 3
   },
   "file_extension": ".py",
   "mimetype": "text/x-python",
   "name": "python",
   "nbconvert_exporter": "python",
   "pygments_lexer": "ipython3",
   "version": "3.8.8"
  }
 },
 "nbformat": 4,
 "nbformat_minor": 5
}
