{
 "cells": [
  {
   "cell_type": "code",
   "execution_count": 6,
   "id": "1e609976",
   "metadata": {},
   "outputs": [],
   "source": [
    "#For this program we are going to find the min value of given tree\n",
    "class Node:\n",
    "    def __init__(self,key):\n",
    "        self.val = key\n",
    "        self.left = None\n",
    "        self.right = None\n",
    "#Declare Node and insert values\n",
    "a = Node(10)\n",
    "b = Node(20)\n",
    "c = Node(12)\n",
    "d = Node(90)\n",
    "e = Node(67)\n",
    "f = Node(200)\n",
    "#Connection between the nodes\n",
    "#      a\n",
    "#    /   \\\n",
    "#   b     c\n",
    "#  / \\   / \\\n",
    "# d   e     f\n",
    "\n",
    "a.left = b\n",
    "a.right = c\n",
    "b.left = d\n",
    "b.right = e\n",
    "c.right = f"
   ]
  },
  {
   "cell_type": "code",
   "execution_count": 7,
   "id": "dc44a8ba",
   "metadata": {},
   "outputs": [],
   "source": [
    "#To find the min value we can do it by DFS or BFS\n",
    "def minValuedfs(root):\n",
    "    if root is None:\n",
    "        return 'No value found'\n",
    "    stack = []\n",
    "    m = root.val\n",
    "    stack.append(root)\n",
    "    while stack:\n",
    "        current = stack.pop()\n",
    "        m = min(m,current.val)\n",
    "        if current.left:\n",
    "            stack.append(current.left)\n",
    "        if current.right:\n",
    "            stack.append(current.right)\n",
    "    return m\n",
    "\n",
    "#To find the min value we are using BFS\n",
    "def minValuebfs(root):\n",
    "    if root is None:\n",
    "        return 'No value found'\n",
    "    queue = []\n",
    "    m = root.val\n",
    "    queue.append(root)\n",
    "    while queue:\n",
    "        current = queue.pop(0)\n",
    "        m = min(m,current.val)\n",
    "        if current.left:\n",
    "            queue.append(current.left)\n",
    "        if current.right:\n",
    "            queue.append(current.right)\n",
    "    return m"
   ]
  },
  {
   "cell_type": "code",
   "execution_count": 8,
   "id": "b0ffd255",
   "metadata": {},
   "outputs": [
    {
     "name": "stdout",
     "output_type": "stream",
     "text": [
      "10\n",
      "10\n"
     ]
    }
   ],
   "source": [
    "print(minValuedfs(a))\n",
    "print(minValuebfs(a))"
   ]
  },
  {
   "cell_type": "code",
   "execution_count": 12,
   "id": "0ec4602c",
   "metadata": {},
   "outputs": [],
   "source": [
    "#Lets try is it recurssion\n",
    "def minValueRecursion(root):\n",
    "    if root is None:\n",
    "        return float(\"inf\")\n",
    "    return min(root.val,minValueRecursion(root.left),minValueRecursion(root.right))"
   ]
  },
  {
   "cell_type": "code",
   "execution_count": 13,
   "id": "ddbe8e4a",
   "metadata": {},
   "outputs": [
    {
     "name": "stdout",
     "output_type": "stream",
     "text": [
      "10\n"
     ]
    }
   ],
   "source": [
    "print(minValueRecursion(a))"
   ]
  }
 ],
 "metadata": {
  "kernelspec": {
   "display_name": "Python 3",
   "language": "python",
   "name": "python3"
  },
  "language_info": {
   "codemirror_mode": {
    "name": "ipython",
    "version": 3
   },
   "file_extension": ".py",
   "mimetype": "text/x-python",
   "name": "python",
   "nbconvert_exporter": "python",
   "pygments_lexer": "ipython3",
   "version": "3.8.8"
  }
 },
 "nbformat": 4,
 "nbformat_minor": 5
}
