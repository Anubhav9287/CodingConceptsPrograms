{
 "cells": [
  {
   "cell_type": "code",
   "execution_count": 29,
   "id": "c5cf7be8",
   "metadata": {},
   "outputs": [],
   "source": [
    "#Reverse a linked list\n",
    "# 1-->2-->3-->4-->5\n",
    "#change to\n",
    "# 5-->4-->3-->2-->1"
   ]
  },
  {
   "cell_type": "code",
   "execution_count": 30,
   "id": "4298fa4a",
   "metadata": {},
   "outputs": [],
   "source": [
    "class Node:\n",
    "    def __init__(self,key):\n",
    "        self.val = key\n",
    "        self.next = None\n",
    "#Create node with values\n",
    "a = Node(1)\n",
    "b = Node(2)\n",
    "c = Node(3)\n",
    "d = Node(4)\n",
    "e = Node(5)\n",
    "#Connecting the node\n",
    "a.next = b\n",
    "b.next = c\n",
    "c.next = d\n",
    "d.next = e"
   ]
  },
  {
   "cell_type": "code",
   "execution_count": 31,
   "id": "204fb64b",
   "metadata": {},
   "outputs": [],
   "source": [
    "#This function is just to print node values\n",
    "def printLinkedList(head):\n",
    "    current = head\n",
    "    while current:\n",
    "        print(current.val,end = ' --> ')\n",
    "        current = current.next\n",
    "    print('None')"
   ]
  },
  {
   "cell_type": "code",
   "execution_count": 32,
   "id": "3cd95beb",
   "metadata": {},
   "outputs": [
    {
     "name": "stdout",
     "output_type": "stream",
     "text": [
      "1 --> 2 --> 3 --> 4 --> 5 --> None\n"
     ]
    }
   ],
   "source": [
    "#prinitng the original list\n",
    "printLinkedList(a)"
   ]
  },
  {
   "cell_type": "code",
   "execution_count": 25,
   "id": "c017b4f1",
   "metadata": {},
   "outputs": [],
   "source": [
    "#general method\n",
    "def reverseLinkedList(head):\n",
    "    prev = None\n",
    "    current = head\n",
    "    nxt = current.next\n",
    "    while current:\n",
    "        nxt = current.next\n",
    "        current.next = prev\n",
    "        prev = current\n",
    "        current = nxt\n",
    "    return prev"
   ]
  },
  {
   "cell_type": "code",
   "execution_count": 26,
   "id": "f765f387",
   "metadata": {},
   "outputs": [
    {
     "name": "stdout",
     "output_type": "stream",
     "text": [
      "5 --> 4 --> 3 --> 2 --> 1 --> None\n"
     ]
    }
   ],
   "source": [
    "printLinkedList(reverseLinkedList(a))"
   ]
  },
  {
   "cell_type": "code",
   "execution_count": 33,
   "id": "d3e7b128",
   "metadata": {},
   "outputs": [],
   "source": [
    "#recursion method\n",
    "def reverseLinkedListRecursion(head, prev=None):\n",
    "    if head == None:\n",
    "        return prev\n",
    "    nxt = head.next\n",
    "    head.next = prev\n",
    "    return reverseLinkedListRecursion(nxt,head)"
   ]
  },
  {
   "cell_type": "code",
   "execution_count": 34,
   "id": "c2be4305",
   "metadata": {},
   "outputs": [
    {
     "name": "stdout",
     "output_type": "stream",
     "text": [
      "5 --> 4 --> 3 --> 2 --> 1 --> None\n"
     ]
    }
   ],
   "source": [
    "printLinkedList(reverseLinkedListRecursion(a))"
   ]
  },
  {
   "cell_type": "code",
   "execution_count": null,
   "id": "f40bcc2b",
   "metadata": {},
   "outputs": [],
   "source": []
  }
 ],
 "metadata": {
  "kernelspec": {
   "display_name": "Python 3",
   "language": "python",
   "name": "python3"
  },
  "language_info": {
   "codemirror_mode": {
    "name": "ipython",
    "version": 3
   },
   "file_extension": ".py",
   "mimetype": "text/x-python",
   "name": "python",
   "nbconvert_exporter": "python",
   "pygments_lexer": "ipython3",
   "version": "3.8.8"
  }
 },
 "nbformat": 4,
 "nbformat_minor": 5
}
