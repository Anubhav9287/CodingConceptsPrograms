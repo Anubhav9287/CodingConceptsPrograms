{
 "cells": [
  {
   "cell_type": "code",
   "execution_count": 1,
   "id": "8f55e4c0",
   "metadata": {},
   "outputs": [],
   "source": [
    "#Get given node index value"
   ]
  },
  {
   "cell_type": "code",
   "execution_count": 2,
   "id": "48067203",
   "metadata": {},
   "outputs": [],
   "source": [
    "class Node:\n",
    "    def __init__(self,key):\n",
    "        self.val = key\n",
    "        self.next = None\n",
    "#create nodes with different values\n",
    "a = Node('A')\n",
    "b = Node('B')\n",
    "c = Node('C')\n",
    "d = Node('D')\n",
    "e = Node('E')\n",
    "f = Node('F')\n",
    "#Connection of the code\n",
    "a.next = b\n",
    "b.next = c\n",
    "c.next = d\n",
    "d.next = e\n",
    "e.next = f"
   ]
  },
  {
   "cell_type": "code",
   "execution_count": 16,
   "id": "2c258fec",
   "metadata": {},
   "outputs": [],
   "source": [
    "def getValueOnIndex(head, index):\n",
    "    current = head\n",
    "    count = 0\n",
    "    while current:\n",
    "        if count == index:\n",
    "            return current.val\n",
    "        count += 1\n",
    "        current = current.next\n",
    "    return 'No value found'"
   ]
  },
  {
   "cell_type": "code",
   "execution_count": 17,
   "id": "6120eff3",
   "metadata": {},
   "outputs": [
    {
     "name": "stdout",
     "output_type": "stream",
     "text": [
      "E\n",
      "No value found\n"
     ]
    }
   ],
   "source": [
    "print(getValueOnIndex(a,4))\n",
    "print(getValueOnIndex(a,14))"
   ]
  },
  {
   "cell_type": "code",
   "execution_count": 18,
   "id": "227e3f92",
   "metadata": {},
   "outputs": [],
   "source": [
    "def getValueOnIndexRecursion(head,index,count):\n",
    "    if head == None:\n",
    "        return 'No Value found'\n",
    "    if count == index:\n",
    "        return head.val\n",
    "    count += 1\n",
    "    return getValueOnIndexRecursion(head.next,index,count)"
   ]
  },
  {
   "cell_type": "code",
   "execution_count": 19,
   "id": "56b5aadc",
   "metadata": {},
   "outputs": [
    {
     "name": "stdout",
     "output_type": "stream",
     "text": [
      "E\n",
      "No Value found\n"
     ]
    }
   ],
   "source": [
    "print(getValueOnIndexRecursion(a,4,0))\n",
    "print(getValueOnIndexRecursion(a,14,0))"
   ]
  },
  {
   "cell_type": "code",
   "execution_count": null,
   "id": "4117a4cb",
   "metadata": {},
   "outputs": [],
   "source": []
  }
 ],
 "metadata": {
  "kernelspec": {
   "display_name": "Python 3",
   "language": "python",
   "name": "python3"
  },
  "language_info": {
   "codemirror_mode": {
    "name": "ipython",
    "version": 3
   },
   "file_extension": ".py",
   "mimetype": "text/x-python",
   "name": "python",
   "nbconvert_exporter": "python",
   "pygments_lexer": "ipython3",
   "version": "3.8.8"
  }
 },
 "nbformat": 4,
 "nbformat_minor": 5
}
