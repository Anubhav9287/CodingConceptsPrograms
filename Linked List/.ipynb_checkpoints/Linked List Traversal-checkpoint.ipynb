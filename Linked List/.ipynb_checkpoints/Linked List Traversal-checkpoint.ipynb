{
 "cells": [
  {
   "cell_type": "code",
   "execution_count": 35,
   "id": "98366c2b",
   "metadata": {},
   "outputs": [],
   "source": [
    "#This program will help how to traverse a linked list\n",
    "#Implementation will have both recursive and general method"
   ]
  },
  {
   "cell_type": "code",
   "execution_count": 36,
   "id": "814d135e",
   "metadata": {},
   "outputs": [],
   "source": [
    "#This Node class have value and pointer to the next node\n",
    "class Node:\n",
    "    def __init__(self,key):\n",
    "        self.val = key\n",
    "        self.next = None\n",
    "a = Node(2)\n",
    "b = Node(3)\n",
    "c = Node(4)\n",
    "d = Node(5)\n",
    "e = Node(6)\n",
    "#Connection\n",
    "a.next = b\n",
    "b.next = c\n",
    "c.next = d\n",
    "d.next = e"
   ]
  },
  {
   "cell_type": "code",
   "execution_count": 37,
   "id": "c5fb8e75",
   "metadata": {},
   "outputs": [],
   "source": [
    "#After above execution linked list looks like\n",
    "# 2 --> 3 --> 4 --> 5 --> 6"
   ]
  },
  {
   "cell_type": "code",
   "execution_count": 38,
   "id": "d03b3fed",
   "metadata": {},
   "outputs": [],
   "source": [
    "#create a function to traverse and add 10 to each number and print\n",
    "def traverseAndPrint(head):\n",
    "    current = head\n",
    "    while current:\n",
    "        print('Orginal value: ', current.val,' ---> ',current.val+10)\n",
    "        current = current.next"
   ]
  },
  {
   "cell_type": "code",
   "execution_count": 39,
   "id": "b5e6b0a5",
   "metadata": {},
   "outputs": [
    {
     "name": "stdout",
     "output_type": "stream",
     "text": [
      "Orginal value:  2  --->  12\n",
      "Orginal value:  3  --->  13\n",
      "Orginal value:  4  --->  14\n",
      "Orginal value:  5  --->  15\n",
      "Orginal value:  6  --->  16\n"
     ]
    }
   ],
   "source": [
    "traverseAndPrint(a)"
   ]
  },
  {
   "cell_type": "code",
   "execution_count": 40,
   "id": "1075f951",
   "metadata": {},
   "outputs": [],
   "source": [
    "#Recursive Method\n",
    "def traverseRecursive(head):\n",
    "    if head == None:\n",
    "        return\n",
    "    print('Orginal value: ', head.val,' ---> ',head.val+10)\n",
    "    traverseRecursive(head.next)"
   ]
  },
  {
   "cell_type": "code",
   "execution_count": 41,
   "id": "3e26f65d",
   "metadata": {},
   "outputs": [
    {
     "name": "stdout",
     "output_type": "stream",
     "text": [
      "Orginal value:  2  --->  12\n",
      "Orginal value:  3  --->  13\n",
      "Orginal value:  4  --->  14\n",
      "Orginal value:  5  --->  15\n",
      "Orginal value:  6  --->  16\n"
     ]
    }
   ],
   "source": [
    "traverseRecursive(a)"
   ]
  }
 ],
 "metadata": {
  "kernelspec": {
   "display_name": "Python 3",
   "language": "python",
   "name": "python3"
  },
  "language_info": {
   "codemirror_mode": {
    "name": "ipython",
    "version": 3
   },
   "file_extension": ".py",
   "mimetype": "text/x-python",
   "name": "python",
   "nbconvert_exporter": "python",
   "pygments_lexer": "ipython3",
   "version": "3.8.8"
  }
 },
 "nbformat": 4,
 "nbformat_minor": 5
}
