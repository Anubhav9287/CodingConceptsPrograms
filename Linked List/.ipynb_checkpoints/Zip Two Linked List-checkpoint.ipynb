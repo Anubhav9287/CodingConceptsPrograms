{
 "cells": [
  {
   "cell_type": "markdown",
   "id": "a3f6b45f",
   "metadata": {},
   "source": [
    "# Zip two linked list\n",
    "# a --> b --> c --> d --> e --> f --> None\n",
    "# A --> B --> C --> None\n",
    "# OUTPUT:\n",
    "#  a --> A --> b --> B --> c --> C --> d --> e --> f --> None"
   ]
  },
  {
   "cell_type": "code",
   "execution_count": 86,
   "id": "8cd6f8ac",
   "metadata": {},
   "outputs": [],
   "source": [
    "#create two linked list\n",
    "class Node:\n",
    "    def __init__(self,key):\n",
    "        self.val = key\n",
    "        self.next = None\n",
    "#create Nodes\n",
    "a = Node('a')\n",
    "b = Node('b')\n",
    "c = Node('c')\n",
    "d = Node('d')\n",
    "e = Node('e')\n",
    "f = Node('f')\n",
    "A = Node('A')\n",
    "B = Node('B')\n",
    "C = Node('C')\n",
    "#create connections\n",
    "a.next = b\n",
    "b.next = c\n",
    "c.next = d\n",
    "d.next = e\n",
    "e.next = f\n",
    "#second Connection for linkedlist 2\n",
    "A.next = B\n",
    "B.next = C"
   ]
  },
  {
   "cell_type": "code",
   "execution_count": 87,
   "id": "7de3fda1",
   "metadata": {},
   "outputs": [],
   "source": [
    "def printLinkedList(head):\n",
    "    current = head\n",
    "    while current:\n",
    "        print(current.val, end=' --> ')\n",
    "        current = current.next\n",
    "    print('None')"
   ]
  },
  {
   "cell_type": "code",
   "execution_count": 88,
   "id": "5610f588",
   "metadata": {},
   "outputs": [
    {
     "name": "stdout",
     "output_type": "stream",
     "text": [
      "a --> b --> c --> d --> e --> f --> None\n"
     ]
    }
   ],
   "source": [
    "printLinkedList(a)"
   ]
  },
  {
   "cell_type": "code",
   "execution_count": 89,
   "id": "a1b6414b",
   "metadata": {},
   "outputs": [
    {
     "name": "stdout",
     "output_type": "stream",
     "text": [
      "A --> B --> C --> None\n"
     ]
    }
   ],
   "source": [
    "printLinkedList(A)"
   ]
  },
  {
   "cell_type": "code",
   "execution_count": 90,
   "id": "baa30c13",
   "metadata": {},
   "outputs": [],
   "source": [
    "#After merging output: a --> A --> b --> B --> c --> C --> d --> e --> f --> None"
   ]
  },
  {
   "cell_type": "code",
   "execution_count": 91,
   "id": "3d463ad7",
   "metadata": {},
   "outputs": [],
   "source": [
    "def zipLinkedList(head1,head2):\n",
    "    tail = head1\n",
    "    current1 = head1.next\n",
    "    current2 = head2\n",
    "    count = 0\n",
    "    while current1 and current2:\n",
    "        if count % 2 == 0:\n",
    "            tail.next = current2\n",
    "            current2 = current2.next\n",
    "        else:\n",
    "            tail.next = current1\n",
    "            current1 = current1.next\n",
    "        tail = tail.next\n",
    "        count += 1\n",
    "    if current1:\n",
    "        tail.next = current1\n",
    "    if current2:\n",
    "        trail.next = current2\n",
    "    return head1"
   ]
  },
  {
   "cell_type": "code",
   "execution_count": 92,
   "id": "90dc1395",
   "metadata": {},
   "outputs": [
    {
     "name": "stdout",
     "output_type": "stream",
     "text": [
      "a --> A --> b --> B --> c --> C --> d --> e --> f --> None\n"
     ]
    }
   ],
   "source": [
    "printLinkedList(zipLinkedList(a,A))"
   ]
  },
  {
   "cell_type": "markdown",
   "id": "c7c246b7",
   "metadata": {},
   "source": [
    "# Recussion Approach"
   ]
  },
  {
   "cell_type": "code",
   "execution_count": 93,
   "id": "cccc99ab",
   "metadata": {},
   "outputs": [],
   "source": [
    "#Ressigning the two linked list\n",
    "#create connections\n",
    "a.next = b\n",
    "b.next = c\n",
    "c.next = d\n",
    "d.next = e\n",
    "e.next = f\n",
    "f.next = None\n",
    "#second Connection for linkedlist 2\n",
    "A.next = B\n",
    "B.next = C\n",
    "C.next = None"
   ]
  },
  {
   "cell_type": "code",
   "execution_count": 94,
   "id": "9b7371f0",
   "metadata": {},
   "outputs": [
    {
     "name": "stdout",
     "output_type": "stream",
     "text": [
      "a --> b --> c --> d --> e --> f --> None\n",
      "A --> B --> C --> None\n"
     ]
    }
   ],
   "source": [
    "printLinkedList(a)\n",
    "printLinkedList(A)"
   ]
  },
  {
   "cell_type": "code",
   "execution_count": 95,
   "id": "fb8d2023",
   "metadata": {},
   "outputs": [],
   "source": [
    "def zipLinkedListRecurssion(head1,head2):\n",
    "    if not head1 and not head2:\n",
    "        return None\n",
    "    if not head1:\n",
    "        return head2\n",
    "    if not head2:\n",
    "        return head1\n",
    "    next1 = head1.next\n",
    "    next2 = head2.next\n",
    "    head1.next = head2\n",
    "    head2.next = zipLinkedListRecurssion(next1,next2)\n",
    "    return head1"
   ]
  },
  {
   "cell_type": "code",
   "execution_count": 96,
   "id": "11121386",
   "metadata": {},
   "outputs": [
    {
     "name": "stdout",
     "output_type": "stream",
     "text": [
      "a --> A --> b --> B --> c --> C --> d --> e --> f --> None\n"
     ]
    }
   ],
   "source": [
    "printLinkedList(zipLinkedListRecurssion(a,A))"
   ]
  },
  {
   "cell_type": "code",
   "execution_count": null,
   "id": "0a6bce78",
   "metadata": {},
   "outputs": [],
   "source": []
  }
 ],
 "metadata": {
  "kernelspec": {
   "display_name": "Python 3",
   "language": "python",
   "name": "python3"
  },
  "language_info": {
   "codemirror_mode": {
    "name": "ipython",
    "version": 3
   },
   "file_extension": ".py",
   "mimetype": "text/x-python",
   "name": "python",
   "nbconvert_exporter": "python",
   "pygments_lexer": "ipython3",
   "version": "3.8.8"
  }
 },
 "nbformat": 4,
 "nbformat_minor": 5
}
