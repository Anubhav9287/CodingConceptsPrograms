{
 "cells": [
  {
   "cell_type": "code",
   "execution_count": 1,
   "id": "7c7f4c85",
   "metadata": {},
   "outputs": [],
   "source": [
    "#Linked List Values\n",
    "#Sum of the Values in linked list\n",
    "#Finding a value in Linked List\n",
    "#Linked list used: Single Linked List"
   ]
  },
  {
   "cell_type": "code",
   "execution_count": 24,
   "id": "d64953cf",
   "metadata": {},
   "outputs": [],
   "source": [
    "class Node:\n",
    "    def __init__(self,key):\n",
    "        self.val = key\n",
    "        self.next = None\n",
    "a = Node(5)\n",
    "b = Node(6)\n",
    "c = Node(4)\n",
    "d = Node(5)\n",
    "e = Node(3)\n",
    "f = Node(7)\n",
    "#Connecting the nodes\n",
    "a.next = b\n",
    "b.next = c\n",
    "c.next = d\n",
    "d.next = e\n",
    "e.next = f"
   ]
  },
  {
   "cell_type": "code",
   "execution_count": 25,
   "id": "b4b0717f",
   "metadata": {},
   "outputs": [],
   "source": [
    "#General version of the code\n",
    "def returnList(head):\n",
    "    current = head\n",
    "    result = []\n",
    "    while current:\n",
    "        result.append(current.val)\n",
    "        current = current.next\n",
    "    return result"
   ]
  },
  {
   "cell_type": "code",
   "execution_count": 26,
   "id": "8ce79039",
   "metadata": {},
   "outputs": [],
   "source": [
    "#recursion version of code\n",
    "def returnListRecursion(head,result):\n",
    "    if not head:\n",
    "        return result\n",
    "    result.append(head.val)\n",
    "    returnListRecursion(head.next,result)"
   ]
  },
  {
   "cell_type": "code",
   "execution_count": 27,
   "id": "4292bb8d",
   "metadata": {},
   "outputs": [
    {
     "data": {
      "text/plain": [
       "[5, 6, 4, 5, 3, 7]"
      ]
     },
     "execution_count": 27,
     "metadata": {},
     "output_type": "execute_result"
    }
   ],
   "source": [
    "returnList(a)"
   ]
  },
  {
   "cell_type": "code",
   "execution_count": 28,
   "id": "cf1ec2a3",
   "metadata": {},
   "outputs": [
    {
     "data": {
      "text/plain": [
       "[5, 6, 4, 5, 3, 7]"
      ]
     },
     "execution_count": 28,
     "metadata": {},
     "output_type": "execute_result"
    }
   ],
   "source": [
    "values = []\n",
    "returnListRecursion(a,values)\n",
    "values"
   ]
  },
  {
   "cell_type": "markdown",
   "id": "6774e305",
   "metadata": {},
   "source": [
    "# Now implement Sum of Values in Linked List"
   ]
  },
  {
   "cell_type": "code",
   "execution_count": 30,
   "id": "b052849e",
   "metadata": {},
   "outputs": [],
   "source": [
    "#general approach for linked list Sum Values\n",
    "def sumLinkedListValues(head):\n",
    "    total = 0\n",
    "    current = head\n",
    "    while current:\n",
    "        total = total + current.val\n",
    "        current = current.next\n",
    "    return total"
   ]
  },
  {
   "cell_type": "code",
   "execution_count": 31,
   "id": "64840708",
   "metadata": {},
   "outputs": [
    {
     "data": {
      "text/plain": [
       "30"
      ]
     },
     "execution_count": 31,
     "metadata": {},
     "output_type": "execute_result"
    }
   ],
   "source": [
    "sumLinkedListValues(a)"
   ]
  },
  {
   "cell_type": "code",
   "execution_count": 32,
   "id": "78cb907f",
   "metadata": {},
   "outputs": [],
   "source": [
    "def sumLinkedListRecursion(head):\n",
    "    if not head:\n",
    "        return 0\n",
    "    return head.val + sumLinkedListRecursion(head.next)"
   ]
  },
  {
   "cell_type": "code",
   "execution_count": 33,
   "id": "46ef5613",
   "metadata": {},
   "outputs": [
    {
     "data": {
      "text/plain": [
       "30"
      ]
     },
     "execution_count": 33,
     "metadata": {},
     "output_type": "execute_result"
    }
   ],
   "source": [
    "sumLinkedListRecursion(a)"
   ]
  },
  {
   "cell_type": "markdown",
   "id": "d2ad2168",
   "metadata": {},
   "source": [
    "# Now Implementation of Finding a value in Linked List"
   ]
  },
  {
   "cell_type": "code",
   "execution_count": 40,
   "id": "12fcc45a",
   "metadata": {},
   "outputs": [],
   "source": [
    "#general approach for linked list to find the value\n",
    "def findValue(head,value):\n",
    "    current = head\n",
    "    while current:\n",
    "        if current.val == value:\n",
    "            return True\n",
    "        current = current.next\n",
    "    return False"
   ]
  },
  {
   "cell_type": "code",
   "execution_count": 41,
   "id": "aca6d7e3",
   "metadata": {},
   "outputs": [
    {
     "name": "stdout",
     "output_type": "stream",
     "text": [
      "True\n",
      "False\n"
     ]
    }
   ],
   "source": [
    "print(findValue(a,5))\n",
    "print(findValue(a,15))"
   ]
  },
  {
   "cell_type": "code",
   "execution_count": 42,
   "id": "2f8cd744",
   "metadata": {},
   "outputs": [],
   "source": [
    "#Recursive approach for finding a value in linked list\n",
    "def findValueRecursive(head,value):\n",
    "    if not head:\n",
    "        return False\n",
    "    if head.val == value:\n",
    "        return True\n",
    "    return findValueRecursive(head.next,value)"
   ]
  },
  {
   "cell_type": "code",
   "execution_count": 44,
   "id": "9e5d9cb5",
   "metadata": {},
   "outputs": [
    {
     "name": "stdout",
     "output_type": "stream",
     "text": [
      "True\n",
      "False\n"
     ]
    }
   ],
   "source": [
    "print(findValueRecursive(a,5))\n",
    "print(findValueRecursive(a,15))"
   ]
  },
  {
   "cell_type": "code",
   "execution_count": null,
   "id": "4f0cc3cf",
   "metadata": {},
   "outputs": [],
   "source": []
  }
 ],
 "metadata": {
  "kernelspec": {
   "display_name": "Python 3",
   "language": "python",
   "name": "python3"
  },
  "language_info": {
   "codemirror_mode": {
    "name": "ipython",
    "version": 3
   },
   "file_extension": ".py",
   "mimetype": "text/x-python",
   "name": "python",
   "nbconvert_exporter": "python",
   "pygments_lexer": "ipython3",
   "version": "3.8.8"
  }
 },
 "nbformat": 4,
 "nbformat_minor": 5
}
