{
 "cells": [
  {
   "cell_type": "code",
   "execution_count": 16,
   "id": "9d23f67b",
   "metadata": {},
   "outputs": [],
   "source": [
    "#Check if path exist between source and dest node"
   ]
  },
  {
   "cell_type": "code",
   "execution_count": 17,
   "id": "fe982871",
   "metadata": {},
   "outputs": [],
   "source": [
    "graph = {\n",
    "        'f': ['g','i'],\n",
    "        'g': ['h'],\n",
    "        'h': [],\n",
    "        'i': ['g','k'],\n",
    "        'j': ['i'],\n",
    "        'k': [],\n",
    "        }"
   ]
  },
  {
   "cell_type": "code",
   "execution_count": 18,
   "id": "5326f780",
   "metadata": {},
   "outputs": [],
   "source": [
    "source_node = 'f'\n",
    "dest_node = 'k'"
   ]
  },
  {
   "cell_type": "code",
   "execution_count": 19,
   "id": "b37e9ce0",
   "metadata": {},
   "outputs": [],
   "source": [
    "#Depth First\n",
    "def findPath(graph,source,dest):\n",
    "    stack = []\n",
    "    stack.append(source)\n",
    "    while(stack):\n",
    "        current = stack.pop()\n",
    "        if current == dest:\n",
    "            return 'Path Exist'\n",
    "        for eachVal in graph[current]:\n",
    "            stack.append(eachVal)\n",
    "    return 'No Path Exist'"
   ]
  },
  {
   "cell_type": "code",
   "execution_count": 20,
   "id": "dbe74146",
   "metadata": {},
   "outputs": [
    {
     "data": {
      "text/plain": [
       "'Path Exist'"
      ]
     },
     "execution_count": 20,
     "metadata": {},
     "output_type": "execute_result"
    }
   ],
   "source": [
    "findPath(graph,source_node,dest_node)"
   ]
  },
  {
   "cell_type": "code",
   "execution_count": 21,
   "id": "ebd6978a",
   "metadata": {},
   "outputs": [],
   "source": [
    "#Achieveing same with recursion"
   ]
  },
  {
   "cell_type": "code",
   "execution_count": 22,
   "id": "b358a4fc",
   "metadata": {},
   "outputs": [],
   "source": [
    "#depth Fist\n",
    "def findPathRecusion(graph,source,dest):\n",
    "    if source == dest:\n",
    "        return True\n",
    "    for eachVal in graph[source]:\n",
    "        if findPathRecusion(graph,eachVal,dest):\n",
    "            return 'Path Exit'\n",
    "    return 'No Path Exist'"
   ]
  },
  {
   "cell_type": "code",
   "execution_count": 23,
   "id": "5cb66d82",
   "metadata": {},
   "outputs": [
    {
     "data": {
      "text/plain": [
       "'Path Exit'"
      ]
     },
     "execution_count": 23,
     "metadata": {},
     "output_type": "execute_result"
    }
   ],
   "source": [
    "findPathRecusion(graph,source_node,dest_node)"
   ]
  },
  {
   "cell_type": "code",
   "execution_count": 24,
   "id": "f6016c3e",
   "metadata": {},
   "outputs": [],
   "source": [
    "#Breath First"
   ]
  },
  {
   "cell_type": "code",
   "execution_count": 31,
   "id": "f11fed29",
   "metadata": {},
   "outputs": [],
   "source": [
    "def findPathbfs(graph,source_node,dest_node):\n",
    "    queue = []\n",
    "    queue.append(source_node)\n",
    "    while queue:\n",
    "        current = queue.pop(0)\n",
    "        if current == dest_node:\n",
    "            return 'Path Exist'\n",
    "        for each_n in graph[current]:\n",
    "            queue.append(each_n)\n",
    "    return 'No Path Exist'"
   ]
  },
  {
   "cell_type": "code",
   "execution_count": 32,
   "id": "c802e30e",
   "metadata": {},
   "outputs": [
    {
     "data": {
      "text/plain": [
       "'Path Exist'"
      ]
     },
     "execution_count": 32,
     "metadata": {},
     "output_type": "execute_result"
    }
   ],
   "source": [
    "findPathbfs(graph,source_node,dest_node)"
   ]
  },
  {
   "cell_type": "code",
   "execution_count": null,
   "id": "6c845865",
   "metadata": {},
   "outputs": [],
   "source": []
  }
 ],
 "metadata": {
  "kernelspec": {
   "display_name": "Python 3",
   "language": "python",
   "name": "python3"
  },
  "language_info": {
   "codemirror_mode": {
    "name": "ipython",
    "version": 3
   },
   "file_extension": ".py",
   "mimetype": "text/x-python",
   "name": "python",
   "nbconvert_exporter": "python",
   "pygments_lexer": "ipython3",
   "version": "3.8.8"
  }
 },
 "nbformat": 4,
 "nbformat_minor": 5
}
