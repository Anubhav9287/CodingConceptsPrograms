{
 "cells": [
  {
   "cell_type": "code",
   "execution_count": 1,
   "id": "44f1c741",
   "metadata": {},
   "outputs": [],
   "source": [
    "#Undirected Graph Path Exist? : Having Cycles"
   ]
  },
  {
   "cell_type": "code",
   "execution_count": null,
   "id": "73fc5075",
   "metadata": {},
   "outputs": [],
   "source": [
    "#Assuming that edges are given\n",
    "#Firstly convert the edges data into adj list"
   ]
  },
  {
   "cell_type": "code",
   "execution_count": 46,
   "id": "5f9fa784",
   "metadata": {},
   "outputs": [],
   "source": [
    "source_node = 'i'\n",
    "dest_node = 'j'"
   ]
  },
  {
   "cell_type": "code",
   "execution_count": 47,
   "id": "174beca1",
   "metadata": {},
   "outputs": [],
   "source": [
    "edges = [\n",
    "    ['i','j'],\n",
    "    ['k','i'],\n",
    "    ['m','k'],\n",
    "    ['k','l'],\n",
    "    ['o','n']\n",
    "]"
   ]
  },
  {
   "cell_type": "code",
   "execution_count": 48,
   "id": "822c8498",
   "metadata": {},
   "outputs": [],
   "source": [
    "def convertToAdj(edges):\n",
    "    graph = {}\n",
    "    for (a,b) in edges:\n",
    "        if a not in graph:\n",
    "            graph[a] = []\n",
    "        if b not in graph:\n",
    "            graph[b] = []\n",
    "        graph[a].append(b)\n",
    "        graph[b].append(a)\n",
    "    return graph"
   ]
  },
  {
   "cell_type": "code",
   "execution_count": 49,
   "id": "2cfe4488",
   "metadata": {},
   "outputs": [],
   "source": [
    "#For undirected graph path I will go woth two solutions\n",
    "#For this we have cycle in the graph therefore we need to have visited set as will\n",
    "# One is for depth first search\n",
    "# Second is Recurssion"
   ]
  },
  {
   "cell_type": "code",
   "execution_count": 67,
   "id": "f346cda2",
   "metadata": {},
   "outputs": [],
   "source": [
    "#Depth First approach\n",
    "def undirectedGraph(edges, src, dest):\n",
    "    graph = convertToAdj(edges)\n",
    "    visited = []\n",
    "    if src == dest:\n",
    "        return True\n",
    "    stack = []\n",
    "    stack.append(src)\n",
    "    while stack:\n",
    "        current = stack.pop()\n",
    "        if current == dest:\n",
    "            return True\n",
    "        if current in visited:\n",
    "            continue\n",
    "        visited.append(current)\n",
    "        for i in graph[current]:\n",
    "            stack.append(i)\n",
    "    return False"
   ]
  },
  {
   "cell_type": "code",
   "execution_count": 68,
   "id": "3dfe6025",
   "metadata": {},
   "outputs": [
    {
     "data": {
      "text/plain": [
       "True"
      ]
     },
     "execution_count": 68,
     "metadata": {},
     "output_type": "execute_result"
    }
   ],
   "source": [
    "undirectedGraph(edges,source_node,dest_node)"
   ]
  },
  {
   "cell_type": "code",
   "execution_count": null,
   "id": "0d3b3d60",
   "metadata": {},
   "outputs": [],
   "source": [
    "#Recursion Method"
   ]
  },
  {
   "cell_type": "code",
   "execution_count": 56,
   "id": "c731f70e",
   "metadata": {},
   "outputs": [],
   "source": [
    "def undirectedPath(edges, nodeA, nodeB):\n",
    "    graph = convertToAdj(edges)\n",
    "    return hasPath(graph, nodeA, nodeB, [])"
   ]
  },
  {
   "cell_type": "code",
   "execution_count": 63,
   "id": "ac324ba1",
   "metadata": {},
   "outputs": [],
   "source": [
    "def hasPath(graph, src, dest, visited):\n",
    "    if src == dest:\n",
    "        return True\n",
    "    if src in visited:\n",
    "        return False\n",
    "    visited.append(src)\n",
    "    \n",
    "    for n in graph[src]:\n",
    "        if hasPath(graph, n, dest, visited):\n",
    "            return True\n",
    "    return False"
   ]
  },
  {
   "cell_type": "code",
   "execution_count": 64,
   "id": "2a84637b",
   "metadata": {},
   "outputs": [
    {
     "data": {
      "text/plain": [
       "True"
      ]
     },
     "execution_count": 64,
     "metadata": {},
     "output_type": "execute_result"
    }
   ],
   "source": [
    "undirectedPath(edges,source_node,dest_node)"
   ]
  },
  {
   "cell_type": "code",
   "execution_count": null,
   "id": "3b3abe50",
   "metadata": {},
   "outputs": [],
   "source": []
  }
 ],
 "metadata": {
  "kernelspec": {
   "display_name": "Python 3",
   "language": "python",
   "name": "python3"
  },
  "language_info": {
   "codemirror_mode": {
    "name": "ipython",
    "version": 3
   },
   "file_extension": ".py",
   "mimetype": "text/x-python",
   "name": "python",
   "nbconvert_exporter": "python",
   "pygments_lexer": "ipython3",
   "version": "3.8.8"
  }
 },
 "nbformat": 4,
 "nbformat_minor": 5
}
