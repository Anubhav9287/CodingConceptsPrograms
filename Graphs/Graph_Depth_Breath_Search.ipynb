{
 "cells": [
  {
   "cell_type": "code",
   "execution_count": 1,
   "id": "fb552811",
   "metadata": {},
   "outputs": [],
   "source": [
    "#Graph Depth First Search: "
   ]
  },
  {
   "cell_type": "code",
   "execution_count": 16,
   "id": "5460530f",
   "metadata": {},
   "outputs": [],
   "source": [
    "graph = {\n",
    "        'a': ['b','c'],\n",
    "        'b': ['d'],\n",
    "        'c': ['e'],\n",
    "        'd': ['f'],\n",
    "        'e': [],\n",
    "        'f': [],\n",
    "        }"
   ]
  },
  {
   "cell_type": "code",
   "execution_count": 17,
   "id": "1d49def1",
   "metadata": {},
   "outputs": [
    {
     "data": {
      "text/plain": [
       "{'a': ['b', 'c'], 'b': ['d'], 'c': ['e'], 'd': ['f'], 'e': [], 'f': []}"
      ]
     },
     "execution_count": 17,
     "metadata": {},
     "output_type": "execute_result"
    }
   ],
   "source": [
    "graph"
   ]
  },
  {
   "cell_type": "code",
   "execution_count": 20,
   "id": "94eb9ffd",
   "metadata": {},
   "outputs": [],
   "source": [
    "def dfs(graph, source_node):\n",
    "    stack = []\n",
    "    stack.append(source_node)\n",
    "    while stack:\n",
    "        current = stack.pop()\n",
    "        print('Visited Node: ',current)\n",
    "        for goesTo in graph[current]:\n",
    "            stack.append(goesTo)"
   ]
  },
  {
   "cell_type": "code",
   "execution_count": 21,
   "id": "24e1d54a",
   "metadata": {},
   "outputs": [
    {
     "name": "stdout",
     "output_type": "stream",
     "text": [
      "Visited Node:  a\n",
      "Visited Node:  c\n",
      "Visited Node:  e\n",
      "Visited Node:  b\n",
      "Visited Node:  d\n",
      "Visited Node:  f\n"
     ]
    }
   ],
   "source": [
    "dfs(graph,'a')"
   ]
  },
  {
   "cell_type": "code",
   "execution_count": 24,
   "id": "a7c2114f",
   "metadata": {},
   "outputs": [],
   "source": [
    "def bfs(graph, source_node):\n",
    "    queue = []\n",
    "    queue.append(source_node)\n",
    "    while queue:\n",
    "        current = queue.pop(0)\n",
    "        print('Visited Node: ',current)\n",
    "        for goesTo in graph[current]:\n",
    "            queue.append(goesTo)"
   ]
  },
  {
   "cell_type": "code",
   "execution_count": 25,
   "id": "93945ba3",
   "metadata": {},
   "outputs": [
    {
     "name": "stdout",
     "output_type": "stream",
     "text": [
      "Visited Node:  a\n",
      "Visited Node:  b\n",
      "Visited Node:  c\n",
      "Visited Node:  d\n",
      "Visited Node:  e\n",
      "Visited Node:  f\n"
     ]
    }
   ],
   "source": [
    "bfs(graph,'a')"
   ]
  },
  {
   "cell_type": "code",
   "execution_count": null,
   "id": "ce648cad",
   "metadata": {},
   "outputs": [],
   "source": []
  }
 ],
 "metadata": {
  "kernelspec": {
   "display_name": "Python 3",
   "language": "python",
   "name": "python3"
  },
  "language_info": {
   "codemirror_mode": {
    "name": "ipython",
    "version": 3
   },
   "file_extension": ".py",
   "mimetype": "text/x-python",
   "name": "python",
   "nbconvert_exporter": "python",
   "pygments_lexer": "ipython3",
   "version": "3.8.8"
  }
 },
 "nbformat": 4,
 "nbformat_minor": 5
}
