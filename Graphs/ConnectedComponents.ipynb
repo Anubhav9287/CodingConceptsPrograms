{
 "cells": [
  {
   "cell_type": "code",
   "execution_count": null,
   "id": "58b29cf1",
   "metadata": {},
   "outputs": [],
   "source": [
    "#Find the Connected Components"
   ]
  },
  {
   "cell_type": "code",
   "execution_count": 57,
   "id": "809c155d",
   "metadata": {},
   "outputs": [],
   "source": [
    "connectedComponents = {\n",
    "    '0':['8','1','5'],\n",
    "    '1':['0'],\n",
    "    '5':['0','8'],\n",
    "    '8':['0','5'],\n",
    "    '2':['3','4'],\n",
    "    '3':['2','4'],\n",
    "    '4':['3','2']\n",
    "}"
   ]
  },
  {
   "cell_type": "code",
   "execution_count": 58,
   "id": "f222d6ed",
   "metadata": {},
   "outputs": [],
   "source": [
    "visited = []\n",
    "count = 0"
   ]
  },
  {
   "cell_type": "code",
   "execution_count": 62,
   "id": "d7a75e1d",
   "metadata": {},
   "outputs": [],
   "source": [
    "def connectedCount(graph):\n",
    "    global count\n",
    "    for node in graph:\n",
    "        if explore(graph,node,visited):\n",
    "            count = count + 1\n",
    "    return count"
   ]
  },
  {
   "cell_type": "code",
   "execution_count": 63,
   "id": "df3b689e",
   "metadata": {},
   "outputs": [],
   "source": [
    "def explore(graph, current,visited):\n",
    "    if current in visited:\n",
    "        return False\n",
    "    visited.append(current)\n",
    "    for n in graph[current]:\n",
    "        explore(graph,n,visited)\n",
    "    return True"
   ]
  },
  {
   "cell_type": "code",
   "execution_count": 64,
   "id": "eb52db80",
   "metadata": {},
   "outputs": [
    {
     "data": {
      "text/plain": [
       "2"
      ]
     },
     "execution_count": 64,
     "metadata": {},
     "output_type": "execute_result"
    }
   ],
   "source": [
    "connectedCount(connectedComponents)"
   ]
  },
  {
   "cell_type": "code",
   "execution_count": null,
   "id": "3d79a833",
   "metadata": {},
   "outputs": [],
   "source": []
  }
 ],
 "metadata": {
  "kernelspec": {
   "display_name": "Python 3",
   "language": "python",
   "name": "python3"
  },
  "language_info": {
   "codemirror_mode": {
    "name": "ipython",
    "version": 3
   },
   "file_extension": ".py",
   "mimetype": "text/x-python",
   "name": "python",
   "nbconvert_exporter": "python",
   "pygments_lexer": "ipython3",
   "version": "3.8.8"
  }
 },
 "nbformat": 4,
 "nbformat_minor": 5
}
